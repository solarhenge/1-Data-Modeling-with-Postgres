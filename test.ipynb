{
 "cells": [
  {
   "cell_type": "code",
   "execution_count": 1,
   "metadata": {},
   "outputs": [],
   "source": [
    "##Importing psycopg2\n",
    "import psycopg2"
   ]
  },
  {
   "cell_type": "code",
   "execution_count": 2,
   "metadata": {},
   "outputs": [],
   "source": [
    "conn = psycopg2.connect(host=\"localhost\",database=\"sparkifydb\", user=\"student\", password=\"student\")\n",
    "cur = conn.cursor()"
   ]
  },
  {
   "cell_type": "code",
   "execution_count": 3,
   "metadata": {},
   "outputs": [],
   "source": [
    "## print the row data\n",
    "def print_the_row_data(data):\n",
    "    for row in data:\n",
    "        print(row)\n",
    "    conn.commit()    "
   ]
  },
  {
   "cell_type": "code",
   "execution_count": 4,
   "metadata": {},
   "outputs": [
    {
     "name": "stdout",
     "output_type": "stream",
     "text": [
      "('AR7G5I41187FB4CE6C', 'Adam Ant', 'SONHOTT12A8C13493C', 'Something Girls', 233.40363)\n"
     ]
    }
   ],
   "source": [
    "## select from the songs dimension table\n",
    "\n",
    "query = (\"\"\"select a.artist_id, a.name, s.song_id, s.title, s.duration from artists a join songs s on a.artist_id = s.artist_id where 1 = 1 and a.name = %s and s.title = %s and s.duration = %s;\"\"\")\n",
    "artist_name = 'Adam Ant'\n",
    "song_title = 'Something Girls'\n",
    "duration = 233.40363\n",
    "results = cur.execute(query, (artist_name, song_title, duration))\n",
    "data = cur.fetchall()\n",
    "print_the_row_data(data)"
   ]
  },
  {
   "cell_type": "code",
   "execution_count": 5,
   "metadata": {},
   "outputs": [
    {
     "name": "stdout",
     "output_type": "stream",
     "text": [
      "(1, datetime.datetime(2018, 11, 21, 21, 56, 47, 796000), '15', 'paid', 'SOZCTXZ12AB0182364', 'AR5KOSW1187FB35FF4', 818, 'Chicago-Naperville-Elgin, IL-IN-WI', '\"Mozilla/5.0 (X11; Linux x86_64) AppleWebKit/537.36 (KHTML, like Gecko) Ubuntu Chromium/36.0.1985.125 Chrome/36.0.1985.125 Safari/537.36\"')\n"
     ]
    }
   ],
   "source": [
    "## select from the song_plays fact table\n",
    "\n",
    "query = (\"select * from songplays limit 5;\")\n",
    "results = cur.execute(query)\n",
    "data = cur.fetchall()\n",
    "print_the_row_data(data)"
   ]
  },
  {
   "cell_type": "code",
   "execution_count": 6,
   "metadata": {},
   "outputs": [
    {
     "name": "stdout",
     "output_type": "stream",
     "text": [
      "('10', 'Sylvie', 'Cruz', 'F', 'free')\n",
      "('53', 'Celeste', 'Williams', 'F', 'free')\n",
      "('29', 'Jacqueline', 'Lynch', 'F', 'paid')\n",
      "('68', 'Jordan', 'Rodriguez', 'F', 'free')\n",
      "('94', 'Noah', 'Chavez', 'M', 'free')\n"
     ]
    }
   ],
   "source": [
    "## select from the users dimension table\n",
    "\n",
    "query = (\"select * from users limit 5;\")\n",
    "results = cur.execute(query)\n",
    "data = cur.fetchall()\n",
    "print_the_row_data(data)\n"
   ]
  },
  {
   "cell_type": "code",
   "execution_count": 7,
   "metadata": {},
   "outputs": [
    {
     "name": "stdout",
     "output_type": "stream",
     "text": [
      "('SOVYKGO12AB0187199', 'Crazy Mixed Up World', 'ARH4Z031187B9A71F2', 1961.0, 156.39465)\n",
      "('SOLYIBD12A8C135045', 'Music is what we love', 'AR051KA1187B98B2FF', 0.0, 261.51138)\n",
      "('SOBLGCN12AB0183212', 'James (Hold The Ladder Steady)', 'AR47JEX1187B995D81', 1985.0, 124.86485)\n",
      "('SOBCOSW12A8C13D398', 'Rumba De Barcelona', 'AR7SMBG1187B9B9066', 0.0, 218.38322)\n",
      "('SOFFKZS12AB017F194', 'A Higher Place (Album Version)', 'ARBEBBY1187B9B43DB', 1994.0, 236.17261)\n"
     ]
    }
   ],
   "source": [
    "## select from the songs dimension table\n",
    "\n",
    "query = (\"select * from songs limit 5;\")\n",
    "results = cur.execute(query)\n",
    "data = cur.fetchall()\n",
    "print_the_row_data(data)"
   ]
  },
  {
   "cell_type": "code",
   "execution_count": 8,
   "metadata": {},
   "outputs": [
    {
     "name": "stdout",
     "output_type": "stream",
     "text": [
      "('ARGIWFO1187B9B55B7', 'Five Bolt Main', '', None, None)\n",
      "('ARNTLGG11E2835DDB9', 'Clp', '', None, None)\n",
      "('ARL7K851187B99ACD2', 'Andy Andy', '', None, None)\n",
      "('AR5KOSW1187FB35FF4', 'Elena', 'Dubai UAE', 49.80388, 15.47491)\n",
      "('AR7ZKHQ1187B98DD73', 'Glad', '', None, None)\n"
     ]
    }
   ],
   "source": [
    "## select from the artists dimension table\n",
    "\n",
    "query = (\"select * from artists limit 5;\")\n",
    "results = cur.execute(query)\n",
    "data = cur.fetchall()\n",
    "print_the_row_data(data)"
   ]
  },
  {
   "cell_type": "code",
   "execution_count": 9,
   "metadata": {},
   "outputs": [
    {
     "name": "stdout",
     "output_type": "stream",
     "text": [
      "(datetime.datetime(2018, 11, 12, 17, 13, 5, 796000), 17.0, 12.0, 46.0, 11.0, 2018.0, 0.0, 'Monday')\n",
      "(datetime.datetime(2018, 11, 12, 17, 38, 41, 796000), 17.0, 12.0, 46.0, 11.0, 2018.0, 0.0, 'Monday')\n",
      "(datetime.datetime(2018, 11, 12, 15, 3, 18, 796000), 15.0, 12.0, 46.0, 11.0, 2018.0, 0.0, 'Monday')\n",
      "(datetime.datetime(2018, 11, 12, 15, 12, 54, 796000), 15.0, 12.0, 46.0, 11.0, 2018.0, 0.0, 'Monday')\n",
      "(datetime.datetime(2018, 11, 12, 22, 25, 58, 796000), 22.0, 12.0, 46.0, 11.0, 2018.0, 0.0, 'Monday')\n"
     ]
    }
   ],
   "source": [
    "## select from the time dimension table\n",
    "\n",
    "query = (\"select * from time limit 5;\")\n",
    "results = cur.execute(query)\n",
    "data = cur.fetchall()\n",
    "print_the_row_data(data)"
   ]
  },
  {
   "cell_type": "markdown",
   "metadata": {},
   "source": [
    "## REMEMBER: Restart this notebook to close connection to `sparkifydb`\n",
    "Each time you run the cells above, remember to restart this notebook to close the connection to your database. Otherwise, you won't be able to run your code in `create_tables.py`, `etl.py`, or `etl.ipynb` files since you can't make multiple connections to the same database (in this case, sparkifydb)."
   ]
  },
  {
   "cell_type": "code",
   "execution_count": null,
   "metadata": {},
   "outputs": [],
   "source": []
  }
 ],
 "metadata": {
  "kernelspec": {
   "display_name": "Python 3",
   "language": "python",
   "name": "python3"
  },
  "language_info": {
   "codemirror_mode": {
    "name": "ipython",
    "version": 3
   },
   "file_extension": ".py",
   "mimetype": "text/x-python",
   "name": "python",
   "nbconvert_exporter": "python",
   "pygments_lexer": "ipython3",
   "version": "3.6.3"
  }
 },
 "nbformat": 4,
 "nbformat_minor": 2
}
