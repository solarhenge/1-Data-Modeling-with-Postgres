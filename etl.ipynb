{
 "cells": [
  {
   "cell_type": "markdown",
   "metadata": {},
   "source": [
    "# ETL Processes\n",
    "Use this notebook to develop the ETL process for each of your tables before completing the `etl.py` file to load the whole datasets."
   ]
  },
  {
   "cell_type": "code",
   "execution_count": 1,
   "metadata": {},
   "outputs": [],
   "source": [
    "import json\n",
    "import os\n",
    "import glob\n",
    "import psycopg2\n",
    "import pandas as pd\n",
    "from sql_queries import *"
   ]
  },
  {
   "cell_type": "code",
   "execution_count": 2,
   "metadata": {},
   "outputs": [],
   "source": [
    "conn = psycopg2.connect(\"host=127.0.0.1 dbname=sparkifydb user=student password=student\")\n",
    "cur = conn.cursor()"
   ]
  },
  {
   "cell_type": "code",
   "execution_count": 3,
   "metadata": {},
   "outputs": [],
   "source": [
    "def get_files(filepath):\n",
    "    all_files = []\n",
    "    for root, dirs, files in os.walk(filepath):\n",
    "        files = glob.glob(os.path.join(root,'*.json'))\n",
    "        for f in files :\n",
    "            all_files.append(os.path.abspath(f))\n",
    "    \n",
    "    return all_files"
   ]
  },
  {
   "cell_type": "markdown",
   "metadata": {},
   "source": [
    "# Process `song_data`\n",
    "In this first part, you'll perform ETL on the first dataset, `song_data`, to create the `songs` and `artists` dimensional tables.\n",
    "\n",
    "Let's perform ETL on a single song file and load a single record into each table to start.\n",
    "- Use the `get_files` function provided above to get a list of all song JSON files in `data/song_data`\n",
    "- Select the first song in this list\n",
    "- Read the song file and view the data"
   ]
  },
  {
   "cell_type": "code",
   "execution_count": 4,
   "metadata": {},
   "outputs": [],
   "source": [
    "filepath = 'data/song_data'"
   ]
  },
  {
   "cell_type": "code",
   "execution_count": 5,
   "metadata": {},
   "outputs": [
    {
     "name": "stdout",
     "output_type": "stream",
     "text": [
      "               song_id                                              title  \\\n",
      "0   SOBBUGU12A8C13E95D                    Setting Fire to Sleeping Giants   \n",
      "1   SOGNCJP12A58A80271                       Do You Finally Need A Friend   \n",
      "2   SOPSWQW12A6D4F8781                              Made Like This (Live)   \n",
      "3   SOVYKGO12AB0187199                               Crazy Mixed Up World   \n",
      "4   SOZCTXZ12AB0182364                                     Setanta matins   \n",
      "5   SOGXHEG12AB018653E                         It Makes No Difference Now   \n",
      "6   SOYTPEP12AB0180E7B                                    Twist and Shout   \n",
      "7   SOBLGCN12AB0183212                     James (Hold The Ladder Steady)   \n",
      "8   SOBZBAZ12A6D4F8742                                     Spanish Grease   \n",
      "9   SOOLYAZ12A6701F4A6                    Laws Patrolling (Album Version)   \n",
      "10  SOZQDIU12A58A7BCF6                                  Superconfidential   \n",
      "11  SONYPOM12A8C13B2D7  I Think My Wife Is Running Around On Me (Taco ...   \n",
      "12  SOLLHMX12AB01846DC                                  The Emperor Falls   \n",
      "13  SOGOSOV12AF72A285E                                  ¿Dónde va Chichi?   \n",
      "14  SOUDSGM12AC9618304                  Insatiable (Instrumental Version)   \n",
      "15  SOFSOCN12A8C143F5D                                     Face the Ashes   \n",
      "16  SONHOTT12A8C13493C                                    Something Girls   \n",
      "17  SOHKNRJ12A6701D1F8                                       Drop of Rain   \n",
      "18  SOQHXMF12AB0182363                                    Young Boy Blues   \n",
      "19  SOIAZJW12AB01853F1                                         Pink World   \n",
      "20  SOMJBYD12A6D4F8557                              Keepin It Real (Skit)   \n",
      "21  SOMZWCG12A8C13C480                                   I Didn't Mean To   \n",
      "22  SOCIWDW12A8C13D406                                          Soul Deep   \n",
      "23  SOXVLOJ12AB0189215                                    Amor De Cabaret   \n",
      "24  SOYMRWW12A6D4FAB14        The Moon And I (Ordinary Day Album Version)   \n",
      "25  SOBEBDG12A58A76D60                                       Kassie Jones   \n",
      "26  SOWTBJW12AC468AC6E                         Broken-Down Merry-Go-Round   \n",
      "27  SOUQQEA12A8C134B1B                                          High Tide   \n",
      "28  SOILPQQ12AB017E82A                               Sohna Nee Sohna Data   \n",
      "29  SORAMLE12AB017C8B0                                     Auguri Cha Cha   \n",
      "..                 ...                                                ...   \n",
      "42  SONWXQJ12A8C134D94                      The Ballad Of Sleeping Beauty   \n",
      "43  SOUPIRU12A6D4FA1E1                                Der Kleine Dompfaff   \n",
      "44  SONSKXP12A8C13A2C9                                        Native Soul   \n",
      "45  SOWQTQZ12A58A7B63E           Streets On Fire (Explicit Album Version)   \n",
      "46  SODAUVL12A8C13D184                                          Prognosis   \n",
      "47  SOFCHDR12AB01866EF                                        Living Hell   \n",
      "48  SOGDBUF12A8C140FAA                                              Intro   \n",
      "49  SOMVWWT12A58A7AE05                            Knocked Out Of The Park   \n",
      "50  SOPVXLX12A8C1402D5                                   Larger Than Life   \n",
      "51  SOBBXLX12A58A79DDA                      Erica (2005 Digital Remaster)   \n",
      "52  SOQLGFP12A58A7800E                                            OAKtown   \n",
      "53  SOTUKVB12AB0181477                                  Blessed Assurance   \n",
      "54  SOTTDKS12AB018D69B                               It Wont Be Christmas   \n",
      "55  SOAOIBZ12AB01815BE  I Hold Your Hand In Mine [Live At Royal Albert...   \n",
      "56  SOZHPGD12A8C1394FE                                    Baby Come To Me   \n",
      "57  SODUJBS12A8C132150                               Wessex Loses a Bride   \n",
      "58  SOSLAVG12A8C13397F                                        Den Pai Alo   \n",
      "59  SOQVMXR12A81C21483                                        Salt In NYC   \n",
      "60  SOFFKZS12AB017F194                     A Higher Place (Album Version)   \n",
      "61  SOGVQGJ12AB017F169                                          Ten Tonne   \n",
      "62  SOXILUQ12A58A7C72A                                  Jenny Take a Ride   \n",
      "63  SOBKWDJ12A8C13B2F3                      Wild Rose (Back 2 Basics Mix)   \n",
      "64  SOQOTLQ12AB01868D0                                 Clementina Santafè   \n",
      "65  SOLEYHO12AB0188A85                                 Got My Mojo Workin   \n",
      "66  SOFNOQK12AB01840FC                        Kutt Free (DJ Volume Remix)   \n",
      "67  SOBAYLL12A8C138AF9                    Sono andati? Fingevo di dormire   \n",
      "68  SOPEGZN12AB0181B3D                   Get Your Head Stuck On Your Neck   \n",
      "69  SOTCKKY12AB018A141                        Sonnerie lalaleulé hi houuu   \n",
      "70  SOBCOSW12A8C13D398                                 Rumba De Barcelona   \n",
      "71  SOOJPRH12A8C141995                                  Loaded Like A Gun   \n",
      "\n",
      "             artist_id  year   duration  \n",
      "0   ARMAC4T1187FB3FA4C  2004  207.77751  \n",
      "1   ARB29H41187B98F0EF  1972  342.56934  \n",
      "2   ARGIWFO1187B9B55B7     0  225.09669  \n",
      "3   ARH4Z031187B9A71F2  1961  156.39465  \n",
      "4   AR5KOSW1187FB35FF4     0  269.58322  \n",
      "5   AR0RCMP1187FB3F427  1992  133.32853  \n",
      "6   ARAJPHH1187FB5566A  1964  164.80608  \n",
      "7   AR47JEX1187B995D81  1985  124.86485  \n",
      "8   AROUOZZ1187B9ABE51  1997  168.25424  \n",
      "9   AREBBGV1187FB523D2     0  173.66159  \n",
      "10  ARNTLGG11E2835DDB9     0  338.31138  \n",
      "11  ARDNS031187B9924F0  2005  186.48771  \n",
      "12  AR1Y2PT1187FB5B9CE     0  484.62322  \n",
      "13  ARGUVEV1187B98BA17  1997  313.12934  \n",
      "14  ARNTLGG11E2835DDB9     0  266.39628  \n",
      "15  ARXR32B1187FB57099  2007  209.60608  \n",
      "16  AR7G5I41187FB4CE6C  1982  233.40363  \n",
      "17  AR10USD1187B99F3F1     0  189.57016  \n",
      "18  ARGSJW91187B9B1D6B     0  218.77506  \n",
      "19  AR8ZCNI1187B9A069B  1984  269.81832  \n",
      "20  ARD0S291187B9B7BF5     0  114.78159  \n",
      "21  ARD7TVE1187B99BFB1     0  218.93179  \n",
      "22  ARMJAGH1187FB546F3  1969  148.03546  \n",
      "23  ARKRRTF1187B9984DA     0  177.47546  \n",
      "24  ARKFYS91187B98E58F     0  267.70240  \n",
      "25  ARI3BMM1187FB4255E     0  220.78649  \n",
      "26  ARQGYP71187FB44566     0  151.84934  \n",
      "27  ARIG6O41187B988BDD     0  228.59710  \n",
      "28  AR1ZHYZ1187FB3C717     0  599.24853  \n",
      "29  ARHHO3O1187B989413     0  191.84281  \n",
      "..                 ...   ...        ...  \n",
      "42  ARNF6401187FB57032  1994  305.16200  \n",
      "43  ARJIE2Y1187B994AB7     0  152.92036  \n",
      "44  AR0IAWL1187B9A96D0  2003  197.19791  \n",
      "45  ARPFHN61187FB575F6     0  279.97995  \n",
      "46  ARWB3G61187FB49404  2000  363.85914  \n",
      "47  AREVWGE1187B9B890A     0  282.43546  \n",
      "48  AR558FS1187FB45658  2003   75.67628  \n",
      "49  ARQ9BO41187FB5CF1F     0  183.17016  \n",
      "50  AR3JMC51187B9AE49D  1999  236.25098  \n",
      "51  AREDBBQ1187B98AFF5     0  138.63138  \n",
      "52  ARD7TVE1187B99BFB1     0  259.44771  \n",
      "53  AR7ZKHQ1187B98DD73  1993  270.60200  \n",
      "54  ARMBR4Y1187B9990EB     0  241.47546  \n",
      "55  ARPBNLO1187FB3D52F  2000   43.36281  \n",
      "56  AR9AWNF1187B9AB0B4     0  236.93016  \n",
      "57  ARI2JSK1187FB496EF     0  111.62077  \n",
      "58  AROGWRA122988FEE45     0  243.82649  \n",
      "59  ARKULSX1187FB45F84     0  424.12363  \n",
      "60  ARBEBBY1187B9B43DB  1994  236.17261  \n",
      "61  AR62SOJ1187FB47BB5  2005  337.68444  \n",
      "62  ARP6N5A1187B99D1A3  2004  207.43791  \n",
      "63  AR36F9J1187FB406F1     0  230.71302  \n",
      "64  ARGCY1Y1187B9A4FA5     0  153.33832  \n",
      "65  ARAGB2O1187FB3A161     0  338.23302  \n",
      "66  ARNNKDK1187B98BBD5     0  407.37914  \n",
      "67  ARDR4AC1187FB371A1     0  511.16363  \n",
      "68  AREDL271187FB40F44     0   45.66159  \n",
      "69  ARGSAFR1269FB35070     0   29.54404  \n",
      "70  AR7SMBG1187B9B9066     0  218.38322  \n",
      "71  ARBGXIG122988F409D     0  173.19138  \n",
      "\n",
      "[72 rows x 5 columns]\n"
     ]
    }
   ],
   "source": [
    "song_files = get_files(filepath)\n",
    "data = []\n",
    "for row in song_files:\n",
    "    for line in open(row, 'r'):\n",
    "        #print(\"line = \"+line)\n",
    "        data.append(json.loads(line))\n",
    "#print(data)\n",
    "song_id = list(map(lambda x : x['song_id'], data))\n",
    "title = list(map(lambda x : x['title'], data))\n",
    "artist_id = list(map(lambda x : x['artist_id'], data))\n",
    "year = list(map(lambda x : x['year'], data))\n",
    "duration = list(map(lambda x : x['duration'], data))\n",
    "song_df = pd.DataFrame({'song_id': song_id,\n",
    "                        'title': title,\n",
    "                        'artist_id': artist_id,\n",
    "                        'year': year,\n",
    "                        'duration': duration})\n",
    "print(song_df)\n",
    "#print(song_df.head())\n"
   ]
  },
  {
   "cell_type": "markdown",
   "metadata": {},
   "source": [
    "## #1: `songs` Table\n",
    "#### Extract Data for Songs Table\n",
    "- Select columns for song ID, title, artist ID, year, and duration\n",
    "- Use `df.values` to select just the values from the dataframe\n",
    "- Index to select the first (only) record in the dataframe\n",
    "- Convert the array to a list and set it to `song_data`"
   ]
  },
  {
   "cell_type": "code",
   "execution_count": 10,
   "metadata": {},
   "outputs": [
    {
     "name": "stdout",
     "output_type": "stream",
     "text": [
      "['SOBBUGU12A8C13E95D', 'Setting Fire to Sleeping Giants', 'ARMAC4T1187FB3FA4C', 2004, 207.77751]\n",
      "['SOGNCJP12A58A80271', 'Do You Finally Need A Friend', 'ARB29H41187B98F0EF', 1972, 342.56934]\n",
      "['SOPSWQW12A6D4F8781', 'Made Like This (Live)', 'ARGIWFO1187B9B55B7', 0, 225.09669]\n",
      "['SOVYKGO12AB0187199', 'Crazy Mixed Up World', 'ARH4Z031187B9A71F2', 1961, 156.39465]\n",
      "['SOZCTXZ12AB0182364', 'Setanta matins', 'AR5KOSW1187FB35FF4', 0, 269.58322]\n",
      "['SOGXHEG12AB018653E', 'It Makes No Difference Now', 'AR0RCMP1187FB3F427', 1992, 133.32853]\n",
      "['SOYTPEP12AB0180E7B', 'Twist and Shout', 'ARAJPHH1187FB5566A', 1964, 164.80608]\n",
      "['SOBLGCN12AB0183212', 'James (Hold The Ladder Steady)', 'AR47JEX1187B995D81', 1985, 124.86485]\n",
      "['SOBZBAZ12A6D4F8742', 'Spanish Grease', 'AROUOZZ1187B9ABE51', 1997, 168.25424]\n",
      "['SOOLYAZ12A6701F4A6', 'Laws Patrolling (Album Version)', 'AREBBGV1187FB523D2', 0, 173.66159]\n",
      "['SOZQDIU12A58A7BCF6', 'Superconfidential', 'ARNTLGG11E2835DDB9', 0, 338.31138]\n",
      "['SONYPOM12A8C13B2D7', 'I Think My Wife Is Running Around On Me (Taco Hell)', 'ARDNS031187B9924F0', 2005, 186.48771]\n",
      "['SOLLHMX12AB01846DC', 'The Emperor Falls', 'AR1Y2PT1187FB5B9CE', 0, 484.62322]\n",
      "['SOGOSOV12AF72A285E', '¿Dónde va Chichi?', 'ARGUVEV1187B98BA17', 1997, 313.12934]\n",
      "['SOUDSGM12AC9618304', 'Insatiable (Instrumental Version)', 'ARNTLGG11E2835DDB9', 0, 266.39628]\n",
      "['SOFSOCN12A8C143F5D', 'Face the Ashes', 'ARXR32B1187FB57099', 2007, 209.60608]\n",
      "['SONHOTT12A8C13493C', 'Something Girls', 'AR7G5I41187FB4CE6C', 1982, 233.40363]\n",
      "['SOHKNRJ12A6701D1F8', 'Drop of Rain', 'AR10USD1187B99F3F1', 0, 189.57016]\n",
      "['SOQHXMF12AB0182363', 'Young Boy Blues', 'ARGSJW91187B9B1D6B', 0, 218.77506]\n",
      "['SOIAZJW12AB01853F1', 'Pink World', 'AR8ZCNI1187B9A069B', 1984, 269.81832]\n",
      "['SOMJBYD12A6D4F8557', 'Keepin It Real (Skit)', 'ARD0S291187B9B7BF5', 0, 114.78159]\n",
      "['SOMZWCG12A8C13C480', \"I Didn't Mean To\", 'ARD7TVE1187B99BFB1', 0, 218.93179]\n",
      "['SOCIWDW12A8C13D406', 'Soul Deep', 'ARMJAGH1187FB546F3', 1969, 148.03546]\n",
      "['SOXVLOJ12AB0189215', 'Amor De Cabaret', 'ARKRRTF1187B9984DA', 0, 177.47546]\n",
      "['SOYMRWW12A6D4FAB14', 'The Moon And I (Ordinary Day Album Version)', 'ARKFYS91187B98E58F', 0, 267.7024]\n",
      "['SOBEBDG12A58A76D60', 'Kassie Jones', 'ARI3BMM1187FB4255E', 0, 220.78649]\n",
      "['SOWTBJW12AC468AC6E', 'Broken-Down Merry-Go-Round', 'ARQGYP71187FB44566', 0, 151.84934]\n",
      "['SOUQQEA12A8C134B1B', 'High Tide', 'ARIG6O41187B988BDD', 0, 228.5971]\n",
      "['SOILPQQ12AB017E82A', 'Sohna Nee Sohna Data', 'AR1ZHYZ1187FB3C717', 0, 599.24853]\n",
      "['SORAMLE12AB017C8B0', 'Auguri Cha Cha', 'ARHHO3O1187B989413', 0, 191.84281]\n",
      "['SOXLBJT12A8C140925', 'Caught In A Dream', 'ARYKCQI1187FB3B18F', 2004, 290.29832]\n",
      "['SOKEJEJ12A8C13E0D0', 'The Urgency (LP Version)', 'ARC43071187B990240', 0, 245.21098]\n",
      "['SOHUOAP12A8AE488E9', 'Floating', 'ARD842G1187B997376', 1987, 491.12771]\n",
      "['SOBONFF12A6D4F84D8', 'Tonight Will Be Alright', 'ARIK43K1187B9AE54C', 1986, 307.3824]\n",
      "['SOZVMJI12AB01808AF', 'Synthetic Dream', 'ARNPAGP1241B9C7FD4', 0, 165.69424]\n",
      "['SOMUYGI12AB0188633', 'La Culpa', 'ARL7K851187B99ACD2', 0, 226.35057]\n",
      "['SOKEJEJ12A8C13E0D0', 'The Urgency (LP Version)', 'ARC43071187B990240', 0, 245.21098]\n",
      "['SORRZGD12A6310DBC3', 'Harajuku Girls', 'ARVBRGZ1187FB4675A', 2004, 290.55955]\n",
      "['SODREIN12A58A7F2E5', 'A Whiter Shade Of Pale (Live @ Fillmore West)', 'ARLTWXK1187FB5A3F8', 0, 326.00771]\n",
      "['SOINLJW12A8C13314C', 'City Slickers', 'AR8IEZO1187B99055E', 2008, 149.86404]\n",
      "['SOSWKAV12AB018FC91', 'Midnight Star', 'ARULZCI1241B9C8611', 0, 335.51628]\n",
      "['SOLYIBD12A8C135045', 'Music is what we love', 'AR051KA1187B98B2FF', 0, 261.51138]\n",
      "['SONWXQJ12A8C134D94', 'The Ballad Of Sleeping Beauty', 'ARNF6401187FB57032', 1994, 305.162]\n",
      "['SOUPIRU12A6D4FA1E1', 'Der Kleine Dompfaff', 'ARJIE2Y1187B994AB7', 0, 152.92036]\n",
      "['SONSKXP12A8C13A2C9', 'Native Soul', 'AR0IAWL1187B9A96D0', 2003, 197.19791]\n",
      "['SOWQTQZ12A58A7B63E', 'Streets On Fire (Explicit Album Version)', 'ARPFHN61187FB575F6', 0, 279.97995]\n",
      "['SODAUVL12A8C13D184', 'Prognosis', 'ARWB3G61187FB49404', 2000, 363.85914]\n",
      "['SOFCHDR12AB01866EF', 'Living Hell', 'AREVWGE1187B9B890A', 0, 282.43546]\n",
      "['SOGDBUF12A8C140FAA', 'Intro', 'AR558FS1187FB45658', 2003, 75.67628]\n",
      "['SOMVWWT12A58A7AE05', 'Knocked Out Of The Park', 'ARQ9BO41187FB5CF1F', 0, 183.17016]\n",
      "['SOPVXLX12A8C1402D5', 'Larger Than Life', 'AR3JMC51187B9AE49D', 1999, 236.25098]\n",
      "['SOBBXLX12A58A79DDA', 'Erica (2005 Digital Remaster)', 'AREDBBQ1187B98AFF5', 0, 138.63138]\n",
      "['SOQLGFP12A58A7800E', 'OAKtown', 'ARD7TVE1187B99BFB1', 0, 259.44771]\n",
      "['SOTUKVB12AB0181477', 'Blessed Assurance', 'AR7ZKHQ1187B98DD73', 1993, 270.602]\n",
      "['SOTTDKS12AB018D69B', 'It Wont Be Christmas', 'ARMBR4Y1187B9990EB', 0, 241.47546]\n",
      "['SOAOIBZ12AB01815BE', 'I Hold Your Hand In Mine [Live At Royal Albert Hall]', 'ARPBNLO1187FB3D52F', 2000, 43.36281]\n",
      "['SOZHPGD12A8C1394FE', 'Baby Come To Me', 'AR9AWNF1187B9AB0B4', 0, 236.93016]\n",
      "['SODUJBS12A8C132150', 'Wessex Loses a Bride', 'ARI2JSK1187FB496EF', 0, 111.62077]\n",
      "['SOSLAVG12A8C13397F', 'Den Pai Alo', 'AROGWRA122988FEE45', 0, 243.82649]\n",
      "['SOQVMXR12A81C21483', 'Salt In NYC', 'ARKULSX1187FB45F84', 0, 424.12363]\n",
      "['SOFFKZS12AB017F194', 'A Higher Place (Album Version)', 'ARBEBBY1187B9B43DB', 1994, 236.17261]\n",
      "['SOGVQGJ12AB017F169', 'Ten Tonne', 'AR62SOJ1187FB47BB5', 2005, 337.68444]\n",
      "['SOXILUQ12A58A7C72A', 'Jenny Take a Ride', 'ARP6N5A1187B99D1A3', 2004, 207.43791]\n",
      "['SOBKWDJ12A8C13B2F3', 'Wild Rose (Back 2 Basics Mix)', 'AR36F9J1187FB406F1', 0, 230.71302]\n",
      "['SOQOTLQ12AB01868D0', 'Clementina Santafè', 'ARGCY1Y1187B9A4FA5', 0, 153.33832]\n",
      "['SOLEYHO12AB0188A85', 'Got My Mojo Workin', 'ARAGB2O1187FB3A161', 0, 338.23302]\n",
      "['SOFNOQK12AB01840FC', 'Kutt Free (DJ Volume Remix)', 'ARNNKDK1187B98BBD5', 0, 407.37914]\n",
      "['SOBAYLL12A8C138AF9', 'Sono andati? Fingevo di dormire', 'ARDR4AC1187FB371A1', 0, 511.16363]\n",
      "['SOPEGZN12AB0181B3D', 'Get Your Head Stuck On Your Neck', 'AREDL271187FB40F44', 0, 45.66159]\n",
      "['SOTCKKY12AB018A141', 'Sonnerie lalaleulé hi houuu', 'ARGSAFR1269FB35070', 0, 29.54404]\n",
      "['SOBCOSW12A8C13D398', 'Rumba De Barcelona', 'AR7SMBG1187B9B9066', 0, 218.38322]\n",
      "['SOOJPRH12A8C141995', 'Loaded Like A Gun', 'ARBGXIG122988F409D', 0, 173.19138]\n"
     ]
    }
   ],
   "source": [
    "for index, row in song_df.iterrows():\n",
    "    song_data = []\n",
    "    song_data = [row.song_id,\n",
    "                row.title,\n",
    "                row.artist_id,\n",
    "                row.year,\n",
    "                row.duration]\n",
    "    print(song_data)\n"
   ]
  },
  {
   "cell_type": "markdown",
   "metadata": {},
   "source": [
    "#### Insert Record into Song Table\n",
    "Implement the `song_table_insert` query in `sql_queries.py` and run the cell below to insert a record for this song into the `songs` table. Remember to run `create_tables.py` before running the cell below to ensure you've created/resetted the `songs` table in the sparkify database."
   ]
  },
  {
   "cell_type": "code",
   "execution_count": 11,
   "metadata": {},
   "outputs": [
    {
     "ename": "InternalError",
     "evalue": "current transaction is aborted, commands ignored until end of transaction block\n",
     "output_type": "error",
     "traceback": [
      "\u001b[0;31m---------------------------------------------------------------------------\u001b[0m",
      "\u001b[0;31mInternalError\u001b[0m                             Traceback (most recent call last)",
      "\u001b[0;32m<ipython-input-11-0c375ac7939b>\u001b[0m in \u001b[0;36m<module>\u001b[0;34m()\u001b[0m\n\u001b[0;32m----> 1\u001b[0;31m \u001b[0mcur\u001b[0m\u001b[0;34m.\u001b[0m\u001b[0mexecute\u001b[0m\u001b[0;34m(\u001b[0m\u001b[0msong_table_insert\u001b[0m\u001b[0;34m,\u001b[0m \u001b[0msong_data\u001b[0m\u001b[0;34m)\u001b[0m\u001b[0;34m\u001b[0m\u001b[0m\n\u001b[0m\u001b[1;32m      2\u001b[0m \u001b[0mconn\u001b[0m\u001b[0;34m.\u001b[0m\u001b[0mcommit\u001b[0m\u001b[0;34m(\u001b[0m\u001b[0;34m)\u001b[0m\u001b[0;34m\u001b[0m\u001b[0m\n",
      "\u001b[0;31mInternalError\u001b[0m: current transaction is aborted, commands ignored until end of transaction block\n"
     ]
    }
   ],
   "source": [
    "cur.execute(song_table_insert, song_data)\n",
    "conn.commit()"
   ]
  },
  {
   "cell_type": "markdown",
   "metadata": {},
   "source": [
    "Run `test.ipynb` to see if you've successfully added a record to this table."
   ]
  },
  {
   "cell_type": "markdown",
   "metadata": {},
   "source": [
    "## #2: `artists` Table\n",
    "#### Extract Data for Artists Table\n",
    "- Select columns for artist ID, name, location, latitude, and longitude\n",
    "- Use `df.values` to select just the values from the dataframe\n",
    "- Index to select the first (only) record in the dataframe\n",
    "- Convert the array to a list and set it to `artist_data`"
   ]
  },
  {
   "cell_type": "code",
   "execution_count": null,
   "metadata": {},
   "outputs": [],
   "source": [
    "artist_data = \n",
    "artist_data"
   ]
  },
  {
   "cell_type": "markdown",
   "metadata": {},
   "source": [
    "#### Insert Record into Artist Table\n",
    "Implement the `artist_table_insert` query in `sql_queries.py` and run the cell below to insert a record for this song's artist into the `artists` table. Remember to run `create_tables.py` before running the cell below to ensure you've created/resetted the `artists` table in the sparkify database."
   ]
  },
  {
   "cell_type": "code",
   "execution_count": null,
   "metadata": {},
   "outputs": [],
   "source": [
    "cur.execute(artist_table_insert, artist_data)\n",
    "conn.commit()"
   ]
  },
  {
   "cell_type": "markdown",
   "metadata": {},
   "source": [
    "Run `test.ipynb` to see if you've successfully added a record to this table."
   ]
  },
  {
   "cell_type": "markdown",
   "metadata": {},
   "source": [
    "# Process `log_data`\n",
    "In this part, you'll perform ETL on the second dataset, `log_data`, to create the `time` and `users` dimensional tables, as well as the `songplays` fact table.\n",
    "\n",
    "Let's perform ETL on a single log file and load a single record into each table.\n",
    "- Use the `get_files` function provided above to get a list of all log JSON files in `data/log_data`\n",
    "- Select the first log file in this list\n",
    "- Read the log file and view the data"
   ]
  },
  {
   "cell_type": "code",
   "execution_count": null,
   "metadata": {},
   "outputs": [],
   "source": [
    "log_files = "
   ]
  },
  {
   "cell_type": "code",
   "execution_count": null,
   "metadata": {},
   "outputs": [],
   "source": [
    "filepath = "
   ]
  },
  {
   "cell_type": "code",
   "execution_count": null,
   "metadata": {},
   "outputs": [],
   "source": [
    "df = \n",
    "df.head()"
   ]
  },
  {
   "cell_type": "markdown",
   "metadata": {},
   "source": [
    "## #3: `time` Table\n",
    "#### Extract Data for Time Table\n",
    "- Filter records by `NextSong` action\n",
    "- Convert the `ts` timestamp column to datetime\n",
    "  - Hint: the current timestamp is in milliseconds\n",
    "- Extract the timestamp, hour, day, week of year, month, year, and weekday from the `ts` column and set `time_data` to a list containing these values in order\n",
    "  - Hint: use pandas' [`dt` attribute](https://pandas.pydata.org/pandas-docs/stable/reference/api/pandas.Series.dt.html) to access easily datetimelike properties.\n",
    "- Specify labels for these columns and set to `column_labels`\n",
    "- Create a dataframe, `time_df,` containing the time data for this file by combining `column_labels` and `time_data` into a dictionary and converting this into a dataframe"
   ]
  },
  {
   "cell_type": "code",
   "execution_count": null,
   "metadata": {},
   "outputs": [],
   "source": [
    "df = \n",
    "df.head()"
   ]
  },
  {
   "cell_type": "code",
   "execution_count": null,
   "metadata": {},
   "outputs": [],
   "source": [
    "t = \n",
    "t.head()"
   ]
  },
  {
   "cell_type": "code",
   "execution_count": null,
   "metadata": {},
   "outputs": [],
   "source": [
    "time_data = ()\n",
    "column_labels = ()"
   ]
  },
  {
   "cell_type": "code",
   "execution_count": null,
   "metadata": {},
   "outputs": [],
   "source": [
    "time_df = \n",
    "time_df.head()"
   ]
  },
  {
   "cell_type": "markdown",
   "metadata": {},
   "source": [
    "#### Insert Records into Time Table\n",
    "Implement the `time_table_insert` query in `sql_queries.py` and run the cell below to insert records for the timestamps in this log file into the `time` table. Remember to run `create_tables.py` before running the cell below to ensure you've created/resetted the `time` table in the sparkify database."
   ]
  },
  {
   "cell_type": "code",
   "execution_count": null,
   "metadata": {},
   "outputs": [],
   "source": [
    "for i, row in time_df.iterrows():\n",
    "    cur.execute(time_table_insert, list(row))\n",
    "    conn.commit()"
   ]
  },
  {
   "cell_type": "markdown",
   "metadata": {},
   "source": [
    "Run `test.ipynb` to see if you've successfully added records to this table."
   ]
  },
  {
   "cell_type": "markdown",
   "metadata": {},
   "source": [
    "## #4: `users` Table\n",
    "#### Extract Data for Users Table\n",
    "- Select columns for user ID, first name, last name, gender and level and set to `user_df`"
   ]
  },
  {
   "cell_type": "code",
   "execution_count": null,
   "metadata": {},
   "outputs": [],
   "source": [
    "user_df = "
   ]
  },
  {
   "cell_type": "markdown",
   "metadata": {},
   "source": [
    "#### Insert Records into Users Table\n",
    "Implement the `user_table_insert` query in `sql_queries.py` and run the cell below to insert records for the users in this log file into the `users` table. Remember to run `create_tables.py` before running the cell below to ensure you've created/resetted the `users` table in the sparkify database."
   ]
  },
  {
   "cell_type": "code",
   "execution_count": null,
   "metadata": {},
   "outputs": [],
   "source": [
    "for i, row in user_df.iterrows():\n",
    "    cur.execute(user_table_insert, row)\n",
    "    conn.commit()"
   ]
  },
  {
   "cell_type": "markdown",
   "metadata": {},
   "source": [
    "Run `test.ipynb` to see if you've successfully added records to this table."
   ]
  },
  {
   "cell_type": "markdown",
   "metadata": {},
   "source": [
    "## #5: `songplays` Table\n",
    "#### Extract Data and Songplays Table\n",
    "This one is a little more complicated since information from the songs table, artists table, and original log file are all needed for the `songplays` table. Since the log file does not specify an ID for either the song or the artist, you'll need to get the song ID and artist ID by querying the songs and artists tables to find matches based on song title, artist name, and song duration time.\n",
    "- Implement the `song_select` query in `sql_queries.py` to find the song ID and artist ID based on the title, artist name, and duration of a song.\n",
    "- Select the timestamp, user ID, level, song ID, artist ID, session ID, location, and user agent and set to `songplay_data`\n",
    "\n",
    "#### Insert Records into Songplays Table\n",
    "- Implement the `songplay_table_insert` query and run the cell below to insert records for the songplay actions in this log file into the `songplays` table. Remember to run `create_tables.py` before running the cell below to ensure you've created/resetted the `songplays` table in the sparkify database."
   ]
  },
  {
   "cell_type": "code",
   "execution_count": null,
   "metadata": {},
   "outputs": [],
   "source": [
    "for index, row in df.iterrows():\n",
    "\n",
    "    # get songid and artistid from song and artist tables\n",
    "    results = cur.execute(song_select, (row.song, row.artist, row.length))\n",
    "    songid, artistid = results if results else None, None\n",
    "\n",
    "    # insert songplay record\n",
    "    songplay_data = ()\n",
    "    cur.execute(songplay_table_insert, songplay_data)\n",
    "    conn.commit()"
   ]
  },
  {
   "cell_type": "markdown",
   "metadata": {},
   "source": [
    "Run `test.ipynb` to see if you've successfully added records to this table."
   ]
  },
  {
   "cell_type": "markdown",
   "metadata": {},
   "source": [
    "# Close Connection to Sparkify Database"
   ]
  },
  {
   "cell_type": "code",
   "execution_count": null,
   "metadata": {},
   "outputs": [],
   "source": [
    "conn.close()"
   ]
  },
  {
   "cell_type": "markdown",
   "metadata": {},
   "source": [
    "# Implement `etl.py`\n",
    "Use what you've completed in this notebook to implement `etl.py`."
   ]
  },
  {
   "cell_type": "code",
   "execution_count": null,
   "metadata": {},
   "outputs": [],
   "source": []
  }
 ],
 "metadata": {
  "kernelspec": {
   "display_name": "Python 3",
   "language": "python",
   "name": "python3"
  },
  "language_info": {
   "codemirror_mode": {
    "name": "ipython",
    "version": 3
   },
   "file_extension": ".py",
   "mimetype": "text/x-python",
   "name": "python",
   "nbconvert_exporter": "python",
   "pygments_lexer": "ipython3",
   "version": "3.6.3"
  }
 },
 "nbformat": 4,
 "nbformat_minor": 2
}
